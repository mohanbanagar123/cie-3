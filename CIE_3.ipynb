{
  "nbformat": 4,
  "nbformat_minor": 0,
  "metadata": {
    "colab": {
      "provenance": []
    },
    "kernelspec": {
      "name": "python3",
      "display_name": "Python 3"
    },
    "language_info": {
      "name": "python"
    }
  },
  "cells": [
    {
      "cell_type": "code",
      "execution_count": null,
      "metadata": {
        "colab": {
          "base_uri": "https://localhost:8080/"
        },
        "id": "6_rCMiojiUIv",
        "outputId": "2f62b7b5-43dd-4a01-fbf1-dab38befc644"
      },
      "outputs": [
        {
          "output_type": "stream",
          "name": "stdout",
          "text": [
            "         TOWN  TRACT     LON      LAT  MEDV     CRIM    ZN  INDUS  CHAS  \\\n",
            "0      Nahant   2011 -70.955  42.2550  24.0  0.00632  18.0   2.31     0   \n",
            "1  Swampscott   2021 -70.950  42.2875  21.6  0.02731   0.0   7.07     0   \n",
            "2  Swampscott   2022 -70.936  42.2830  34.7  0.02729   0.0   7.07     0   \n",
            "3  Marblehead   2031 -70.928  42.2930  33.4  0.03237   0.0   2.18     0   \n",
            "4  Marblehead   2032 -70.922  42.2980  36.2  0.06905   0.0   2.18     0   \n",
            "\n",
            "     NOX     RM   AGE     DIS  RAD  TAX  PTRATIO  \n",
            "0  0.538  6.575  65.2  4.0900    1  296     15.3  \n",
            "1  0.469  6.421  78.9  4.9671    2  242     17.8  \n",
            "2  0.469  7.185  61.1  4.9671    2  242     17.8  \n",
            "3  0.458  6.998  45.8  6.0622    3  222     18.7  \n",
            "4  0.458  7.147  54.2  6.0622    3  222     18.7  \n",
            "TOWN       0\n",
            "TRACT      0\n",
            "LON        0\n",
            "LAT        0\n",
            "MEDV       0\n",
            "CRIM       0\n",
            "ZN         0\n",
            "INDUS      0\n",
            "CHAS       0\n",
            "NOX        0\n",
            "RM         0\n",
            "AGE        0\n",
            "DIS        0\n",
            "RAD        0\n",
            "TAX        0\n",
            "PTRATIO    0\n",
            "dtype: int64\n",
            "             TRACT         LON         LAT        MEDV        CRIM  \\\n",
            "count   506.000000  506.000000  506.000000  506.000000  506.000000   \n",
            "mean   2700.355731  -71.056389   42.216440   22.528854    3.613524   \n",
            "std    1380.036830    0.075405    0.061777    9.182176    8.601545   \n",
            "min       1.000000  -71.289500   42.030000    5.000000    0.006320   \n",
            "25%    1303.250000  -71.093225   42.180775   17.025000    0.082045   \n",
            "50%    3393.500000  -71.052900   42.218100   21.200000    0.256510   \n",
            "75%    3739.750000  -71.019625   42.252250   25.000000    3.677083   \n",
            "max    5082.000000  -70.810000   42.381000   50.000000   88.976200   \n",
            "\n",
            "               ZN       INDUS        CHAS         NOX          RM         AGE  \\\n",
            "count  506.000000  506.000000  506.000000  506.000000  506.000000  506.000000   \n",
            "mean    11.363636   11.136779    0.069170    0.554695    6.284634   68.574901   \n",
            "std     23.322453    6.860353    0.253994    0.115878    0.702617   28.148861   \n",
            "min      0.000000    0.460000    0.000000    0.385000    3.561000    2.900000   \n",
            "25%      0.000000    5.190000    0.000000    0.449000    5.885500   45.025000   \n",
            "50%      0.000000    9.690000    0.000000    0.538000    6.208500   77.500000   \n",
            "75%     12.500000   18.100000    0.000000    0.624000    6.623500   94.075000   \n",
            "max    100.000000   27.740000    1.000000    0.871000    8.780000  100.000000   \n",
            "\n",
            "              DIS         RAD         TAX     PTRATIO  \n",
            "count  506.000000  506.000000  506.000000  506.000000  \n",
            "mean     3.795043    9.549407  408.237154   18.455534  \n",
            "std      2.105710    8.707259  168.537116    2.164946  \n",
            "min      1.129600    1.000000  187.000000   12.600000  \n",
            "25%      2.100175    4.000000  279.000000   17.400000  \n",
            "50%      3.207450    5.000000  330.000000   19.050000  \n",
            "75%      5.188425   24.000000  666.000000   20.200000  \n",
            "max     12.126500   24.000000  711.000000   22.000000  \n",
            "Mean Squared Error: 15.497057154525734\n",
            "R-squared (R2) Score: 0.8135518823481347\n"
          ]
        }
      ],
      "source": [
        "import pandas as pd\n",
        "from sklearn.model_selection import train_test_split\n",
        "from sklearn.linear_model import LinearRegression\n",
        "from sklearn.metrics import mean_squared_error, r2_score\n",
        "\n",
        "\n",
        "df= pd.read_csv(\"/content/BOOSTON.csv\")\n",
        "print(df.head())\n",
        "print(df.isnull().sum())\n",
        "print(df.describe())\n",
        "\n",
        "X = df[['CHAS','AGE','TAX']]\n",
        "y = df['RAD']\n",
        "X_train, X_test, y_train, y_test = train_test_split(X, y, test_size=0.2, random_state=42)\n",
        "model = LinearRegression()\n",
        "model.fit(X_train, y_train)\n",
        "\n",
        "xtest= model.predict(X_test)\n",
        "mse = mean_squared_error(y_test, xtest)\n",
        "r2 = r2_score(y_test, xtest)\n",
        "\n",
        "print(\"Mean Squared Error:\", mse)\n",
        "print(\"R-squared (R2) Score:\", r2)"
      ]
    },
    {
      "cell_type": "code",
      "source": [
        "from sklearn.datasets import load_iris\n",
        "from sklearn.model_selection import train_test_split\n",
        "from sklearn.tree import DecisionTreeClassifier\n",
        "from sklearn.metrics import accuracy_score\n",
        "\n",
        "iris=load_iris()\n",
        "x=iris.data\n",
        "y=iris.target\n",
        "\n",
        "x_train,x_test,y_train,y_test=train_test_split(x,y,test_size=0.50,random_state=42)\n",
        "clf=DecisionTreeClassifier()\n",
        "clf.fit(x_train,y_train)\n",
        "\n",
        "xtest=clf.predict(x_test)\n",
        "accuracy=accuracy_score(y_test,xtest)\n",
        "print(\"Accuracy score:\",accuracy)"
      ],
      "metadata": {
        "colab": {
          "base_uri": "https://localhost:8080/"
        },
        "id": "cNfB2aSMljD3",
        "outputId": "49114d8d-a5cd-4f95-9bfb-059e759486f2"
      },
      "execution_count": null,
      "outputs": [
        {
          "output_type": "stream",
          "name": "stdout",
          "text": [
            "Accuracy score: 0.9466666666666667\n"
          ]
        }
      ]
    }
  ]
}